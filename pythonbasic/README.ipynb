{
 "cells": [
  {
   "cell_type": "markdown",
   "metadata": {},
   "source": [
    "# Introductions"
   ]
  },
  {
   "cell_type": "markdown",
   "metadata": {},
   "source": [
    "*Python is a high-level, interpreted programming language that was first released in 1991 by Guido van Rossum. It has since become one of the most popular programming languages in the world due to its simplicity, versatility, and ease of use.\n",
    "\n",
    "Python is an open-source language, meaning that its source code is freely available and can be modified and distributed by anyone.\n",
    "\n",
    "Python is used for a wide range of tasks, including web development, data analysis, machine learning, scientific computing, and more.*"
   ]
  },
  {
   "cell_type": "markdown",
   "metadata": {},
   "source": [
    "                                  +-------------------------+\n",
    "                                  | Start                   |\n",
    "                                  +-------------------------+\n",
    "                                                  |\n",
    "                                                  v\n",
    "                                  +-------------------------+\n",
    "                                  | Input first number      |\n",
    "                                  +-------------------------+\n",
    "                                                  |\n",
    "                                                  v\n",
    "                                  +-------------------------+\n",
    "                                  | Input second number     |\n",
    "                                  +-------------------------+\n",
    "                                                  |\n",
    "                                                  v\n",
    "                                  +-------------------------+\n",
    "                                  | Add numbers             |\n",
    "                                  +-------------------------+\n",
    "                                                  |\n",
    "                                                  v\n",
    "                                  +-------------------------+\n",
    "                                  | Print result            |\n",
    "                                  +-------------------------+\n",
    "                                                  |\n",
    "                                                  v\n",
    "                                  +-------------------------+\n",
    "                                  | End                     |\n",
    "                                  +-------------------------+\n"
   ]
  },
  {
   "cell_type": "code",
   "execution_count": 1,
   "metadata": {},
   "outputs": [
    {
     "name": "stdout",
     "output_type": "stream",
     "text": [
      "Hello, Python!\n"
     ]
    }
   ],
   "source": [
    "print('Hello, Python!')"
   ]
  },
  {
   "cell_type": "code",
   "execution_count": null,
   "metadata": {},
   "outputs": [],
   "source": []
  }
 ],
 "metadata": {
  "kernelspec": {
   "display_name": "Python 3.11.1 64-bit",
   "language": "python",
   "name": "python3"
  },
  "language_info": {
   "codemirror_mode": {
    "name": "ipython",
    "version": 3
   },
   "file_extension": ".py",
   "mimetype": "text/x-python",
   "name": "python",
   "nbconvert_exporter": "python",
   "pygments_lexer": "ipython3",
   "version": "3.11.1"
  },
  "orig_nbformat": 4,
  "vscode": {
   "interpreter": {
    "hash": "aee8b7b246df8f9039afb4144a1f6fd8d2ca17a180786b69acc140d282b71a49"
   }
  }
 },
 "nbformat": 4,
 "nbformat_minor": 2
}
