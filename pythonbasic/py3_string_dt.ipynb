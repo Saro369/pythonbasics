{
 "cells": [
  {
   "cell_type": "code",
   "execution_count": 1,
   "metadata": {},
   "outputs": [
    {
     "data": {
      "text/plain": [
       "['__add__',\n",
       " '__class__',\n",
       " '__contains__',\n",
       " '__delattr__',\n",
       " '__dir__',\n",
       " '__doc__',\n",
       " '__eq__',\n",
       " '__format__',\n",
       " '__ge__',\n",
       " '__getattribute__',\n",
       " '__getitem__',\n",
       " '__getnewargs__',\n",
       " '__getstate__',\n",
       " '__gt__',\n",
       " '__hash__',\n",
       " '__init__',\n",
       " '__init_subclass__',\n",
       " '__iter__',\n",
       " '__le__',\n",
       " '__len__',\n",
       " '__lt__',\n",
       " '__mod__',\n",
       " '__mul__',\n",
       " '__ne__',\n",
       " '__new__',\n",
       " '__reduce__',\n",
       " '__reduce_ex__',\n",
       " '__repr__',\n",
       " '__rmod__',\n",
       " '__rmul__',\n",
       " '__setattr__',\n",
       " '__sizeof__',\n",
       " '__str__',\n",
       " '__subclasshook__',\n",
       " 'capitalize',\n",
       " 'casefold',\n",
       " 'center',\n",
       " 'count',\n",
       " 'encode',\n",
       " 'endswith',\n",
       " 'expandtabs',\n",
       " 'find',\n",
       " 'format',\n",
       " 'format_map',\n",
       " 'index',\n",
       " 'isalnum',\n",
       " 'isalpha',\n",
       " 'isascii',\n",
       " 'isdecimal',\n",
       " 'isdigit',\n",
       " 'isidentifier',\n",
       " 'islower',\n",
       " 'isnumeric',\n",
       " 'isprintable',\n",
       " 'isspace',\n",
       " 'istitle',\n",
       " 'isupper',\n",
       " 'join',\n",
       " 'ljust',\n",
       " 'lower',\n",
       " 'lstrip',\n",
       " 'maketrans',\n",
       " 'partition',\n",
       " 'removeprefix',\n",
       " 'removesuffix',\n",
       " 'replace',\n",
       " 'rfind',\n",
       " 'rindex',\n",
       " 'rjust',\n",
       " 'rpartition',\n",
       " 'rsplit',\n",
       " 'rstrip',\n",
       " 'split',\n",
       " 'splitlines',\n",
       " 'startswith',\n",
       " 'strip',\n",
       " 'swapcase',\n",
       " 'title',\n",
       " 'translate',\n",
       " 'upper',\n",
       " 'zfill']"
      ]
     },
     "execution_count": 1,
     "metadata": {},
     "output_type": "execute_result"
    }
   ],
   "source": [
    "dir(str())"
   ]
  },
  {
   "cell_type": "markdown",
   "metadata": {},
   "source": [
    "### capitalize() ###\n",
    "    Capitalize the first letter of the entire string."
   ]
  },
  {
   "cell_type": "code",
   "execution_count": 57,
   "metadata": {},
   "outputs": [
    {
     "data": {
      "text/plain": [
       "'Saravana kumar'"
      ]
     },
     "execution_count": 57,
     "metadata": {},
     "output_type": "execute_result"
    }
   ],
   "source": [
    "string = input(\"Enter a string: \")\n",
    "capitalized_string = string.capitalize()\n",
    "capitalized_string\n",
    "# Hello world!"
   ]
  },
  {
   "cell_type": "markdown",
   "metadata": {},
   "source": [
    "### len() ###\n",
    "    Returns the length of the string."
   ]
  },
  {
   "cell_type": "code",
   "execution_count": 3,
   "metadata": {},
   "outputs": [
    {
     "data": {
      "text/plain": [
       "9"
      ]
     },
     "execution_count": 3,
     "metadata": {},
     "output_type": "execute_result"
    }
   ],
   "source": [
    "len(string)"
   ]
  },
  {
   "cell_type": "markdown",
   "metadata": {},
   "source": [
    "### lower() ###\n",
    "    Converts the string to lowercase."
   ]
  },
  {
   "cell_type": "code",
   "execution_count": 51,
   "metadata": {},
   "outputs": [
    {
     "data": {
      "text/plain": [
       "'saravana kumar m '"
      ]
     },
     "execution_count": 51,
     "metadata": {},
     "output_type": "execute_result"
    }
   ],
   "source": [
    "string.lower()"
   ]
  },
  {
   "cell_type": "markdown",
   "metadata": {},
   "source": [
    "### upper() ###\n",
    "    Converts the string to uppercase."
   ]
  },
  {
   "cell_type": "code",
   "execution_count": 53,
   "metadata": {},
   "outputs": [
    {
     "data": {
      "text/plain": [
       "'SARAVANA KUMAR M '"
      ]
     },
     "execution_count": 53,
     "metadata": {},
     "output_type": "execute_result"
    }
   ],
   "source": [
    "string.upper()"
   ]
  },
  {
   "cell_type": "markdown",
   "metadata": {},
   "source": [
    "### title() ### \n",
    "    Returns a copy of the string with the first letter of each word capitalized."
   ]
  },
  {
   "cell_type": "code",
   "execution_count": 10,
   "metadata": {},
   "outputs": [
    {
     "data": {
      "text/plain": [
       "'Saravana Kumar'"
      ]
     },
     "execution_count": 10,
     "metadata": {},
     "output_type": "execute_result"
    }
   ],
   "source": [
    "string += \" kumar\"\n",
    "string.title()\n",
    "# Hello World!"
   ]
  },
  {
   "cell_type": "markdown",
   "metadata": {},
   "source": [
    "### swapcase() ### \n",
    "    Returns a copy of the string with uppercase characters converted to lowercase and vice versa."
   ]
  },
  {
   "cell_type": "code",
   "execution_count": 56,
   "metadata": {},
   "outputs": [
    {
     "data": {
      "text/plain": [
       "'SARAVANA KUMAR m  m '"
      ]
     },
     "execution_count": 56,
     "metadata": {},
     "output_type": "execute_result"
    }
   ],
   "source": [
    "string.swapcase()"
   ]
  },
  {
   "cell_type": "markdown",
   "metadata": {},
   "source": [
    "### strip() ### \n",
    "    Returns a copy of the string with leading and trailing whitespace removed."
   ]
  },
  {
   "cell_type": "code",
   "execution_count": 58,
   "metadata": {},
   "outputs": [
    {
     "data": {
      "text/plain": [
       "'saravana kumar M'"
      ]
     },
     "execution_count": 58,
     "metadata": {},
     "output_type": "execute_result"
    }
   ],
   "source": [
    "string +=\" M \" # + Concotination\n",
    "string.strip()"
   ]
  },
  {
   "cell_type": "markdown",
   "metadata": {},
   "source": [
    "### lstrip() ### \n",
    "    Returns a copy of the string with leading whitespace removed."
   ]
  },
  {
   "cell_type": "code",
   "execution_count": 59,
   "metadata": {},
   "outputs": [
    {
     "data": {
      "text/plain": [
       "'saravana kumar M '"
      ]
     },
     "execution_count": 59,
     "metadata": {},
     "output_type": "execute_result"
    }
   ],
   "source": [
    "string.lstrip()"
   ]
  },
  {
   "cell_type": "markdown",
   "metadata": {},
   "source": [
    "### rstrip() ###\n",
    "    Returns a copy of the string with trailing whitespace removed."
   ]
  },
  {
   "cell_type": "code",
   "execution_count": 60,
   "metadata": {},
   "outputs": [
    {
     "data": {
      "text/plain": [
       "'saravana kumar M'"
      ]
     },
     "execution_count": 60,
     "metadata": {},
     "output_type": "execute_result"
    }
   ],
   "source": [
    "string.rstrip()"
   ]
  },
  {
   "cell_type": "markdown",
   "metadata": {},
   "source": [
    "### replace() ###\n",
    "    Replaces a substring in the string with another substring."
   ]
  },
  {
   "cell_type": "code",
   "execution_count": 15,
   "metadata": {},
   "outputs": [
    {
     "data": {
      "text/plain": [
       "'saravana kumar CM '"
      ]
     },
     "execution_count": 15,
     "metadata": {},
     "output_type": "execute_result"
    }
   ],
   "source": [
    "string.replace(\"M\",\"CM\")"
   ]
  },
  {
   "cell_type": "markdown",
   "metadata": {},
   "source": [
    "### split() ### \n",
    "    Splits the string into a list of substrings based on a delimiter (default delimiter is whitespace)."
   ]
  },
  {
   "cell_type": "code",
   "execution_count": 16,
   "metadata": {},
   "outputs": [
    {
     "data": {
      "text/plain": [
       "['saravana', 'kumar', 'M']"
      ]
     },
     "execution_count": 16,
     "metadata": {},
     "output_type": "execute_result"
    }
   ],
   "source": [
    "string.split()"
   ]
  },
  {
   "cell_type": "markdown",
   "metadata": {},
   "source": [
    "### join() ###\n",
    "    Joins a list of substrings into a single string with a specified delimiter."
   ]
  },
  {
   "cell_type": "code",
   "execution_count": 24,
   "metadata": {},
   "outputs": [
    {
     "name": "stdout",
     "output_type": "stream",
     "text": [
      "['saravana', 'kumar', 'M']\n",
      "saravana kumar M\n"
     ]
    }
   ],
   "source": [
    "list_of_words = string.split()\n",
    "print(list_of_words)\n",
    "delimiter = \" \"\n",
    "# delimiter = \"_\"\n",
    "print(delimiter.join(list_of_words))"
   ]
  },
  {
   "cell_type": "markdown",
   "metadata": {},
   "source": [
    "### startswith() ### \n",
    "    Checks whether the string starts with a specified substring."
   ]
  },
  {
   "cell_type": "code",
   "execution_count": 27,
   "metadata": {},
   "outputs": [
    {
     "name": "stdout",
     "output_type": "stream",
     "text": [
      "True\n",
      "False\n"
     ]
    }
   ],
   "source": [
    "print(string.startswith(\"saravana\"))\n",
    "print(string.startswith(\"M\"))"
   ]
  },
  {
   "cell_type": "markdown",
   "metadata": {},
   "source": [
    "### endswith() ###\n",
    "    Checks whether the string ends with a specified substring."
   ]
  },
  {
   "cell_type": "code",
   "execution_count": 33,
   "metadata": {},
   "outputs": [
    {
     "name": "stdout",
     "output_type": "stream",
     "text": [
      "saravana kumar M \n",
      "False\n",
      "False\n",
      "True\n"
     ]
    }
   ],
   "source": [
    "print(string)\n",
    "print(string.endswith(\"kumar\"))\n",
    "print(string.endswith(\"M\"))\n",
    "print(string.endswith(\" M \"))\n"
   ]
  },
  {
   "cell_type": "markdown",
   "metadata": {},
   "source": [
    "### count() ###\n",
    "    Returns the number of occurrences of a substring in the string."
   ]
  },
  {
   "cell_type": "code",
   "execution_count": 35,
   "metadata": {},
   "outputs": [
    {
     "name": "stdout",
     "output_type": "stream",
     "text": [
      "2\n"
     ]
    }
   ],
   "source": [
    "print(string.count(\"r\"))"
   ]
  },
  {
   "cell_type": "markdown",
   "metadata": {},
   "source": [
    "### find() ###\n",
    "    Returns the index of the first occurrence of a substring in the string, or -1 if the substring is not found."
   ]
  },
  {
   "cell_type": "code",
   "execution_count": 89,
   "metadata": {},
   "outputs": [
    {
     "name": "stdout",
     "output_type": "stream",
     "text": [
      "-1\n"
     ]
    }
   ],
   "source": [
    "string.find(\"k\") # Find the index number\n",
    "string.find(\"kumar\")"
   ]
  },
  {
   "cell_type": "markdown",
   "metadata": {},
   "source": [
    "### rfind(substring) ###\n",
    "    Returns the index of the last occurrence of the substring in the string, or -1 if not found."
   ]
  },
  {
   "cell_type": "code",
   "execution_count": 88,
   "metadata": {},
   "outputs": [
    {
     "name": "stdout",
     "output_type": "stream",
     "text": [
      "-1\n"
     ]
    },
    {
     "data": {
      "text/plain": [
       "15"
      ]
     },
     "execution_count": 88,
     "metadata": {},
     "output_type": "execute_result"
    }
   ],
   "source": [
    "print(string.rfind(\"  \")) # -1 if not found\n",
    "string.rfind(\"M\")\n",
    "\n"
   ]
  },
  {
   "cell_type": "markdown",
   "metadata": {},
   "source": [
    "### index() ###\n",
    "    Returns the index of the first occurrence of a substring in the string, or raises a ValueError if the substring is not found."
   ]
  },
  {
   "cell_type": "code",
   "execution_count": 43,
   "metadata": {},
   "outputs": [
    {
     "data": {
      "text/plain": [
       "9"
      ]
     },
     "execution_count": 43,
     "metadata": {},
     "output_type": "execute_result"
    }
   ],
   "source": [
    "string.index(\"k\")\n",
    "string.index(\"kumar\")"
   ]
  },
  {
   "cell_type": "markdown",
   "metadata": {},
   "source": [
    "### rindex(substring) ###\n",
    "    Returns the index of the last occurrence of the substring in the string, but raises an exception if not found."
   ]
  },
  {
   "cell_type": "code",
   "execution_count": 91,
   "metadata": {},
   "outputs": [
    {
     "data": {
      "text/plain": [
       "15"
      ]
     },
     "execution_count": 91,
     "metadata": {},
     "output_type": "execute_result"
    }
   ],
   "source": [
    "string.rindex(\"M\")"
   ]
  },
  {
   "cell_type": "markdown",
   "metadata": {},
   "source": [
    "### center(width, fillchar) ###\n",
    "    Returns a copy of the string centered in a field of the specified width and padded with the specified fill character."
   ]
  },
  {
   "cell_type": "code",
   "execution_count": 70,
   "metadata": {},
   "outputs": [
    {
     "name": "stdout",
     "output_type": "stream",
     "text": [
      "saravana kumar M \n",
      "MMMMMMsaravana kumar M MMMMMMM\n",
      "kkkkkkkkkkksaravana kumar M kkkkkkkkkkkk\n"
     ]
    }
   ],
   "source": [
    "print(string.center(10,\"M\"))\n",
    "print(string.center(30,\"M\"))\n",
    "print(string.center(40,\"k\"))\n",
    "\n"
   ]
  },
  {
   "cell_type": "markdown",
   "metadata": {},
   "source": [
    "### ljust(width, fillchar) ###\n",
    "    Returns a copy of the string left-justified in a field of the specified width and padded with the specified fill character."
   ]
  },
  {
   "cell_type": "code",
   "execution_count": 73,
   "metadata": {},
   "outputs": [
    {
     "data": {
      "text/plain": [
       "'saravana kumar M MMMMMMMMMMMMMMMMMMMMMMMMMMMMMMMMM'"
      ]
     },
     "execution_count": 73,
     "metadata": {},
     "output_type": "execute_result"
    }
   ],
   "source": [
    "string.ljust(50,\"M\")"
   ]
  },
  {
   "cell_type": "markdown",
   "metadata": {},
   "source": [
    "### rjust(width, fillchar) ###\n",
    "    Returns a copy of the string right-justified in a field of the specified width and padded with the specified fill character."
   ]
  },
  {
   "cell_type": "code",
   "execution_count": 76,
   "metadata": {},
   "outputs": [
    {
     "data": {
      "text/plain": [
       "'MMMMMMMMMMMMMMMMsaravana kumar M '"
      ]
     },
     "execution_count": 76,
     "metadata": {},
     "output_type": "execute_result"
    }
   ],
   "source": [
    "string.rjust(33,\"M\") # .count(\"M\")"
   ]
  },
  {
   "cell_type": "markdown",
   "metadata": {},
   "source": [
    "### zfill(width) ###\n",
    "    Returns a copy of the string left-filled with zeros in a field of the specified width."
   ]
  },
  {
   "cell_type": "code",
   "execution_count": 80,
   "metadata": {},
   "outputs": [
    {
     "data": {
      "text/plain": [
       "'00000000000000000000000000000000000000000000000000000000000000000000000000000000000saravana kumar M '"
      ]
     },
     "execution_count": 80,
     "metadata": {},
     "output_type": "execute_result"
    }
   ],
   "source": [
    "string.zfill(100)"
   ]
  },
  {
   "cell_type": "markdown",
   "metadata": {},
   "source": [
    "### isalpha() ###\n",
    "    Returns True if all characters in the string are alphabets, False otherwise."
   ]
  },
  {
   "cell_type": "code",
   "execution_count": 93,
   "metadata": {},
   "outputs": [
    {
     "name": "stdout",
     "output_type": "stream",
     "text": [
      "False\n",
      "True\n"
     ]
    }
   ],
   "source": [
    "str1 = \"hello world\"\n",
    "str2 = \"helloworld\"\n",
    "print(str1.isalpha()) # Output: False\n",
    "print(str2.isalpha()) # Output: True"
   ]
  },
  {
   "cell_type": "markdown",
   "metadata": {},
   "source": [
    "### isdigit() ###\n",
    "    Returns True if all characters in the string are digits, False otherwise."
   ]
  },
  {
   "cell_type": "code",
   "execution_count": 99,
   "metadata": {},
   "outputs": [
    {
     "name": "stdout",
     "output_type": "stream",
     "text": [
      "True\n",
      "False\n"
     ]
    }
   ],
   "source": [
    "str1 = \"12345\"\n",
    "str2 = \"hello123\"\n",
    "print(str1.isdigit()) # Output: True\n",
    "print(str2.isdigit()) # Output: False"
   ]
  },
  {
   "cell_type": "markdown",
   "metadata": {},
   "source": [
    "### isalnum() ###\n",
    "    Returns True if all characters in the string are alphanumeric, False otherwise."
   ]
  },
  {
   "cell_type": "code",
   "execution_count": 97,
   "metadata": {},
   "outputs": [
    {
     "name": "stdout",
     "output_type": "stream",
     "text": [
      "True\n",
      "False\n"
     ]
    }
   ],
   "source": [
    "str1 = \"hello123\"\n",
    "str2 = \"hello@123\"\n",
    "print(str1.isalnum()) # Output: True\n",
    "print(str2.isalnum()) # Output: False\n"
   ]
  },
  {
   "cell_type": "markdown",
   "metadata": {},
   "source": [
    "### format() ###\n",
    "Formats the string with the specified arguments."
   ]
  },
  {
   "cell_type": "code",
   "execution_count": 102,
   "metadata": {},
   "outputs": [
    {
     "name": "stdout",
     "output_type": "stream",
     "text": [
      "My name is Saravanan and I am 33 years old.\n"
     ]
    }
   ],
   "source": [
    "name = \"Saravanan\"\n",
    "age = 33\n",
    "print(\"My name is {} and I am {} years old.\".format(name,age))"
   ]
  },
  {
   "cell_type": "markdown",
   "metadata": {},
   "source": [
    "### f-strings ###\n",
    "    Another way of formatting strings that was introduced in Python 3.6."
   ]
  },
  {
   "cell_type": "code",
   "execution_count": 103,
   "metadata": {},
   "outputs": [
    {
     "name": "stdout",
     "output_type": "stream",
     "text": [
      "My name is Saravanan and I am 33 years old.\n"
     ]
    }
   ],
   "source": [
    "name = \"Saravanan\"\n",
    "age = 33\n",
    "print(f\"My name is {name} and I am {age} years old.\")"
   ]
  },
  {
   "cell_type": "markdown",
   "metadata": {},
   "source": [
    "### encode() ###\n",
    "    Returns a bytes object of the string encoded with the specified encoding."
   ]
  },
  {
   "cell_type": "code",
   "execution_count": 104,
   "metadata": {},
   "outputs": [
    {
     "name": "stdout",
     "output_type": "stream",
     "text": [
      "My name is b'Saravanan'.\n"
     ]
    }
   ],
   "source": [
    "name = \"Saravanan\"\n",
    "print(f\"My name is {name.encode('utf-8')}.\")"
   ]
  },
  {
   "cell_type": "code",
   "execution_count": 107,
   "metadata": {},
   "outputs": [
    {
     "name": "stdout",
     "output_type": "stream",
     "text": [
      "My name is Saravanan.\n"
     ]
    }
   ],
   "source": [
    "name = \"Saravanan\"\n",
    "print(f\"My name is {name.translate('k')}.\")"
   ]
  },
  {
   "cell_type": "markdown",
   "metadata": {},
   "source": [
    "### partition() ###\n",
    "    Splits the string into three parts based on the first occurrence of a separator and returns a tuple containing the three parts."
   ]
  },
  {
   "cell_type": "code",
   "execution_count": 108,
   "metadata": {},
   "outputs": [
    {
     "name": "stdout",
     "output_type": "stream",
     "text": [
      "('Saravana', 'M', 'kumar')\n"
     ]
    }
   ],
   "source": [
    "string = \"SaravanaMkumar\"\n",
    "print(string.partition(\"M\"))"
   ]
  },
  {
   "cell_type": "markdown",
   "metadata": {},
   "source": [
    "### rpartition() ###\n",
    "    Splits the string into three parts based on the last occurrence of a separator and returns a tuple containing the three parts."
   ]
  },
  {
   "cell_type": "code",
   "execution_count": 110,
   "metadata": {},
   "outputs": [
    {
     "name": "stdout",
     "output_type": "stream",
     "text": [
      "('SaravanaMkuma', 'r', '')\n"
     ]
    }
   ],
   "source": [
    "string = \"SaravanaMkumar\"\n",
    "print(string.rpartition(\"r\"))"
   ]
  },
  {
   "cell_type": "markdown",
   "metadata": {},
   "source": [
    "### casefold() ###\n",
    "    like lowercase"
   ]
  },
  {
   "cell_type": "code",
   "execution_count": 113,
   "metadata": {},
   "outputs": [
    {
     "name": "stdout",
     "output_type": "stream",
     "text": [
      "SaravanaMkumar\n",
      "saravanamkumar\n"
     ]
    }
   ],
   "source": [
    "print(string)\n",
    "print(string.casefold())"
   ]
  },
  {
   "cell_type": "markdown",
   "metadata": {},
   "source": [
    "    'isalnum',\n",
    "    'isalpha',\n",
    "    'isascii',\n",
    "    'isdecimal',\n",
    "    'isdigit',\n",
    "    'isidentifier',\n",
    "    'islower',\n",
    "    'isnumeric',\n",
    "    'isprintable',\n",
    "    'isspace',\n",
    "    'istitle',\n",
    "    'isupper',"
   ]
  },
  {
   "cell_type": "markdown",
   "metadata": {},
   "source": [
    "### isalnum() ###\n",
    "    method in Python is a string method that returns True if all characters in the string are alphanumeric (i.e. either a letter or a digit), and False otherwise."
   ]
  },
  {
   "cell_type": "markdown",
   "metadata": {},
   "source": [
    "You can use isalnum() in a variety of situations where you need to check whether a string contains only alphanumeric characters. For example:\n",
    "\n",
    "*   Input validation: You can use isalnum() to check whether user input contains only alphanumeric characters before using it in your program. This can help prevent injection attacks or other security vulnerabilities.\n",
    "*   Password validation: You can use isalnum() to enforce password complexity rules, such as requiring that passwords contain both letters and numbers.\n",
    "*   Data cleaning: You can use isalnum() to remove non-alphanumeric characters from strings in a data cleaning or preprocessing step."
   ]
  },
  {
   "cell_type": "code",
   "execution_count": 115,
   "metadata": {},
   "outputs": [
    {
     "name": "stdout",
     "output_type": "stream",
     "text": [
      "The string contains only alphanumeric characters.\n"
     ]
    }
   ],
   "source": [
    "s = \"abc123\"\n",
    "if s.isalnum():\n",
    "    print(\"The string contains only alphanumeric characters.\")\n",
    "else:\n",
    "    print(\"The string contains non-alphanumeric characters.\")\n"
   ]
  },
  {
   "cell_type": "markdown",
   "metadata": {},
   "source": [
    "### isalpha() ###\n",
    "    Method in Python is a string method that returns True if all characters in the string are alphabetic (i.e. letters), and False otherwise."
   ]
  },
  {
   "cell_type": "markdown",
   "metadata": {},
   "source": [
    "You can use isalpha() in a variety of situations where you need to check whether a string contains only alphabetic characters. For example:\n",
    "\n",
    "*   Input validation: You can use isalpha() to check whether user input contains only alphabetic characters before using it in your program. This can help prevent injection attacks or other security vulnerabilities.\n",
    "*   Text processing: You can use isalpha() to filter out non-alphabetic characters from text data before performing text analysis or natural language processing tasks."
   ]
  },
  {
   "cell_type": "code",
   "execution_count": 116,
   "metadata": {},
   "outputs": [
    {
     "name": "stdout",
     "output_type": "stream",
     "text": [
      "The string contains only alphabetic characters.\n"
     ]
    }
   ],
   "source": [
    "s = \"HelloWorld\"\n",
    "if s.isalpha():\n",
    "    print(\"The string contains only alphabetic characters.\")\n",
    "else:\n",
    "    print(\"The string contains non-alphabetic characters.\")\n"
   ]
  },
  {
   "cell_type": "markdown",
   "metadata": {},
   "source": [
    "### isdecimal() ###\n",
    "    Method in Python is a string method that returns True if all characters in the string are decimal (i.e. base 10) digits, and False otherwise."
   ]
  },
  {
   "cell_type": "markdown",
   "metadata": {},
   "source": [
    "You can use isdecimal() in a variety of situations where you need to check whether a string contains only decimal digits. For example:\n",
    "\n",
    "*   Input validation: You can use isdecimal() to check whether user input contains only decimal digits before using it in your program. This can help prevent injection attacks or other security vulnerabilities.\n",
    "*   Data cleaning: You can use isdecimal() to remove non-numeric characters from strings in a data cleaning or preprocessing step."
   ]
  },
  {
   "cell_type": "code",
   "execution_count": 117,
   "metadata": {},
   "outputs": [
    {
     "name": "stdout",
     "output_type": "stream",
     "text": [
      "The string contains only decimal digits.\n"
     ]
    }
   ],
   "source": [
    "s = \"12345\"\n",
    "if s.isdecimal():\n",
    "    print(\"The string contains only decimal digits.\")\n",
    "else:\n",
    "    print(\"The string contains non-decimal digits.\")\n"
   ]
  },
  {
   "cell_type": "markdown",
   "metadata": {},
   "source": [
    "### isdigit() ###\n",
    "    Method in Python is a string method that returns True if all characters in the string are digits, and False otherwise. In other words, isdigit() checks whether the string represents a non-negative integer."
   ]
  },
  {
   "cell_type": "markdown",
   "metadata": {},
   "source": [
    "You can use isdigit() in a variety of situations where you need to check whether a string contains only digits. For example:\n",
    "\n",
    "*   Input validation: You can use isdigit() to check whether user input contains only digits before using it in your program. This can help prevent injection attacks or other security vulnerabilities.\n",
    "*   Data cleaning: You can use isdigit() to remove non-numeric characters from strings in a data cleaning or preprocessing step."
   ]
  },
  {
   "cell_type": "code",
   "execution_count": 118,
   "metadata": {},
   "outputs": [
    {
     "name": "stdout",
     "output_type": "stream",
     "text": [
      "The string contains only digits.\n"
     ]
    }
   ],
   "source": [
    "s = \"12345\"\n",
    "if s.isdigit():\n",
    "    print(\"The string contains only digits.\")\n",
    "else:\n",
    "    print(\"The string contains non-digit characters.\")\n"
   ]
  },
  {
   "cell_type": "markdown",
   "metadata": {},
   "source": [
    "### islower() ###\n",
    "    Method in Python is a string method that returns True if all alphabetic characters in the string are lowercase, and False otherwise."
   ]
  },
  {
   "cell_type": "markdown",
   "metadata": {},
   "source": [
    "You can use islower() in a variety of situations where you need to check whether a string contains only lowercase alphabetic characters. For example:\n",
    "\n",
    "*   Input validation: You can use islower() to check whether user input contains only lowercase alphabetic characters before using it in your program. This can help prevent injection attacks or other security vulnerabilities.\n",
    "*   Data cleaning: You can use islower() to convert all alphabetic characters in a string to lowercase in a data cleaning or preprocessing step."
   ]
  },
  {
   "cell_type": "code",
   "execution_count": 119,
   "metadata": {},
   "outputs": [
    {
     "name": "stdout",
     "output_type": "stream",
     "text": [
      "hello world contains only lowercase alphabetic characters.\n",
      "Hello World contains uppercase alphabetic characters.\n"
     ]
    }
   ],
   "source": [
    "s1 = \"hello world\"\n",
    "s2 = \"Hello World\"\n",
    "\n",
    "if s1.islower():\n",
    "    print(s1, \"contains only lowercase alphabetic characters.\")\n",
    "else:\n",
    "    print(s1, \"contains uppercase alphabetic characters.\")\n",
    "\n",
    "if s2.islower():\n",
    "    print(s2, \"contains only lowercase alphabetic characters.\")\n",
    "else:\n",
    "    print(s2, \"contains uppercase alphabetic characters.\")\n"
   ]
  },
  {
   "cell_type": "markdown",
   "metadata": {},
   "source": [
    "### isnumeric() ###\n",
    "    Method in Python is a string method that returns True if all characters in the string are numeric characters, such as digits, superscripts, subscripts, and other numeric symbols. If the string contains at least one non-numeric character, isnumeric() returns False."
   ]
  },
  {
   "cell_type": "markdown",
   "metadata": {},
   "source": [
    "You can use isnumeric() in a variety of situations where you need to check whether a string contains only numeric characters. For example:\n",
    "\n",
    "*   Input validation: You can use isnumeric() to check whether user input contains only numeric characters before using it in your program. This can help prevent injection attacks or other security vulnerabilities.\n",
    "*   Data cleaning: You can use isnumeric() to remove non-numeric characters from strings in a data cleaning or preprocessing step."
   ]
  },
  {
   "cell_type": "code",
   "execution_count": 120,
   "metadata": {},
   "outputs": [
    {
     "name": "stdout",
     "output_type": "stream",
     "text": [
      "12345 contains only numeric characters.\n",
      "½¾ contains only numeric characters.\n"
     ]
    }
   ],
   "source": [
    "s1 = \"12345\"\n",
    "s2 = \"½¾\"\n",
    "\n",
    "if s1.isnumeric():\n",
    "    print(s1, \"contains only numeric characters.\")\n",
    "else:\n",
    "    print(s1, \"contains non-numeric characters.\")\n",
    "\n",
    "if s2.isnumeric():\n",
    "    print(s2, \"contains only numeric characters.\")\n",
    "else:\n",
    "    print(s2, \"contains non-numeric characters.\")\n"
   ]
  },
  {
   "cell_type": "markdown",
   "metadata": {},
   "source": [
    "### isspace() ###\n",
    "    Method in Python is a string method that returns True if all characters in the string are whitespace characters, such as spaces, tabs, and newline characters. If the string contains at least one non-whitespace character, isspace() returns False."
   ]
  },
  {
   "cell_type": "markdown",
   "metadata": {},
   "source": [
    "You can use isspace() in a variety of situations where you need to check whether a string contains only whitespace characters. For example:\n",
    "\n",
    "*   Input validation: You can use isspace() to check whether user input contains only whitespace characters before using it in your program. This can help prevent injection attacks or other security vulnerabilities.\n",
    "*   Data cleaning: You can use isspace() to remove whitespace characters from strings in a data cleaning or preprocessing step."
   ]
  },
  {
   "cell_type": "code",
   "execution_count": 121,
   "metadata": {},
   "outputs": [
    {
     "name": "stdout",
     "output_type": "stream",
     "text": [
      "  contains only whitespace characters.\n",
      "  \n",
      " contains only whitespace characters.\n"
     ]
    }
   ],
   "source": [
    "s1 = \" \"\n",
    "s2 = \"  \\n\"\n",
    "\n",
    "if s1.isspace():\n",
    "    print(s1, \"contains only whitespace characters.\")\n",
    "else:\n",
    "    print(s1, \"contains non-whitespace characters.\")\n",
    "\n",
    "if s2.isspace():\n",
    "    print(s2, \"contains only whitespace characters.\")\n",
    "else:\n",
    "    print(s2, \"contains non-whitespace characters.\")\n"
   ]
  },
  {
   "cell_type": "code",
   "execution_count": null,
   "metadata": {},
   "outputs": [],
   "source": []
  }
 ],
 "metadata": {
  "kernelspec": {
   "display_name": "Python 3.11.1 64-bit",
   "language": "python",
   "name": "python3"
  },
  "language_info": {
   "codemirror_mode": {
    "name": "ipython",
    "version": 3
   },
   "file_extension": ".py",
   "mimetype": "text/x-python",
   "name": "python",
   "nbconvert_exporter": "python",
   "pygments_lexer": "ipython3",
   "version": "3.11.1"
  },
  "orig_nbformat": 4,
  "vscode": {
   "interpreter": {
    "hash": "aee8b7b246df8f9039afb4144a1f6fd8d2ca17a180786b69acc140d282b71a49"
   }
  }
 },
 "nbformat": 4,
 "nbformat_minor": 2
}
